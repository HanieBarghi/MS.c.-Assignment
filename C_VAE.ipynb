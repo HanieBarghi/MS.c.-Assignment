{
  "nbformat": 4,
  "nbformat_minor": 0,
  "metadata": {
    "kernelspec": {
      "name": "python3",
      "display_name": "Python 3"
    },
    "language_info": {
      "codemirror_mode": {
        "name": "ipython",
        "version": 3
      },
      "file_extension": ".py",
      "mimetype": "text/x-python",
      "name": "python",
      "nbconvert_exporter": "python",
      "pygments_lexer": "ipython3",
      "version": "3.7.4"
    },
    "colab": {
      "name": "C-VAE.1.ipynb",
      "provenance": [],
      "collapsed_sections": []
    },
    "accelerator": "GPU"
  },
  "cells": [
    {
      "cell_type": "markdown",
      "metadata": {
        "id": "4CjyMzxPJR_a",
        "colab_type": "text"
      },
      "source": [
        "# C-VAE for MNIST\n",
        "\n",
        "For further information read the [Conditional Variational Autoencoder tutorial](https://wiseodd.github.io/techblog/2016/12/17/conditional-vae/)."
      ]
    },
    {
      "cell_type": "code",
      "metadata": {
        "id": "VUqx4y8uJR_d",
        "colab_type": "code",
        "colab": {}
      },
      "source": [
        "import torch\n",
        "import torch.nn as nn\n",
        "import torch.nn.functional as F\n",
        "import torch.optim as optim\n",
        "from torchvision import datasets, transforms"
      ],
      "execution_count": 0,
      "outputs": []
    },
    {
      "cell_type": "code",
      "metadata": {
        "id": "k-Pvhl2mJR_n",
        "colab_type": "code",
        "colab": {}
      },
      "source": [
        "# Device configuration\n",
        "device = torch.device('cuda' if torch.cuda.is_available() else 'cpu')\n",
        "\n",
        "# Set Hyper-parameters (change None)\n",
        "BATCH_SIZE = 128\n",
        "LEARNING_RATE = 1e-3\n",
        "N_EPOCH = 50\n"
      ],
      "execution_count": 0,
      "outputs": []
    },
    {
      "cell_type": "code",
      "metadata": {
        "id": "QSeYSr78JR_w",
        "colab_type": "code",
        "colab": {}
      },
      "source": [
        "# MNIST Dataset\n",
        "original_train_dataset = datasets.MNIST(root='./mnist_data/', train=True, transform=transforms.ToTensor(), download=True)\n",
        "original_test_dataset = datasets.MNIST(root='./mnist_data/', train=False, transform=transforms.ToTensor(), download=False)\n",
        "\n",
        "# Data Loader (Input Pipeline)\n",
        "train_loader = torch.utils.data.DataLoader(dataset=original_train_dataset, batch_size=BATCH_SIZE, shuffle=True)\n",
        "test_loader = torch.utils.data.DataLoader(dataset=original_test_dataset, batch_size=BATCH_SIZE, shuffle=False)\n"
      ],
      "execution_count": 0,
      "outputs": []
    },
    {
      "cell_type": "code",
      "metadata": {
        "id": "kjzRAxFLJR_2",
        "colab_type": "code",
        "colab": {}
      },
      "source": [
        "class CVAE(nn.Module):\n",
        "    def __init__(self, x_dim, z_dim, c_dim):\n",
        "        super(CVAE, self).__init__()\n",
        "        \n",
        "        # encoder \n",
        "        self.f1 = nn.Linear(x_dim + c_dim, 512)\n",
        "        self.f2 = nn.Linear(512, 256)\n",
        "        self.f3 = nn.Linear(256, z_dim)\n",
        "        self.f4 = nn.Linear(256, z_dim)\n",
        "        \n",
        "        # decoder \n",
        "        self.f5 = nn.Linear(z_dim + c_dim, 256)\n",
        "        self.f6 = nn.Linear(256, 512)\n",
        "        self.f7 = nn.Linear(512, x_dim)\n",
        "\n",
        "    def encoder(self, x, c):\n",
        "        inp = torch.cat([x, c], 1)\n",
        "        x = self.f1(inp)\n",
        "        x = F.relu(x)\n",
        "        x = self.f2(x)\n",
        "        x = F.relu(x)\n",
        "        out1 = self.f3(x)\n",
        "        out2 = self.f4(x) \n",
        "        return out1, out2 \n",
        "    \n",
        "    def decoder(self, z, c):\n",
        "        inp = torch.cat([z, c], 1)\n",
        "        x = self.f5(inp)\n",
        "        x = F.relu(x)\n",
        "        x = self.f6(x)\n",
        "        x = F.relu(x)\n",
        "        x = self.f7(x)\n",
        "        out = F.sigmoid(x)\n",
        "        return out    \n",
        "    \n",
        "    def sampling(self, mu, log_var):\n",
        "        std = log_var.mul(0.5).exp_()\n",
        "        eps = torch.autograd.Variable(std.data.new(std.size()).normal_())\n",
        "        return eps.mul(std).add(mu)\n",
        "    \n",
        "    \n",
        "    def forward(self, x, c):\n",
        "        mu, log_var = self.encoder(x.view(-1, 784), c)\n",
        "        z = self.sampling(mu, log_var)\n",
        "        out1 = self.decoder(z, c)\n",
        "        return out1, mu, log_var"
      ],
      "execution_count": 0,
      "outputs": []
    },
    {
      "cell_type": "code",
      "metadata": {
        "id": "XN6C3tmGJR_9",
        "colab_type": "code",
        "colab": {}
      },
      "source": [
        "# Create Model (change None)\n",
        "cond_dim = 10\n",
        "latent_dim = 2\n",
        "cvae = CVAE(x_dim=784, z_dim=latent_dim, c_dim=cond_dim)\n",
        "\n",
        "# Device setting\n",
        "cvae = cvae.to(device)"
      ],
      "execution_count": 0,
      "outputs": []
    },
    {
      "cell_type": "code",
      "metadata": {
        "id": "dJgM_3JWJSAE",
        "colab_type": "code",
        "colab": {}
      },
      "source": [
        "# Your Model\n",
        "cvae"
      ],
      "execution_count": 0,
      "outputs": []
    },
    {
      "cell_type": "code",
      "metadata": {
        "id": "o5SoMPHtJSAL",
        "colab_type": "code",
        "colab": {}
      },
      "source": [
        "optimizer = optim.Adam(cvae.parameters(), lr=LEARNING_RATE)\n",
        "\n",
        "# return reconstruction error + KL divergence losses\n",
        "def loss_function(recon_x, x, mu, log_var):\n",
        "    kl_loss = -0.5 * torch.sum(1 + log_var - mu.pow(2) - log_var.exp())\n",
        "    recon_loss = F.binary_cross_entropy(recon_x, x.view(-1, 784), reduction='sum')\n",
        "    return 1 * kl_loss + 0.05 * recon_loss #You can change constants"
      ],
      "execution_count": 0,
      "outputs": []
    },
    {
      "cell_type": "code",
      "metadata": {
        "id": "5QJdXu3CJSAT",
        "colab_type": "code",
        "outputId": "7ccefd14-75cc-4b61-d412-c932094161cc",
        "colab": {
          "base_uri": "https://localhost:8080/",
          "height": 901
        }
      },
      "source": [
        "# Train\n",
        "def one_hott(cond):\n",
        "    OH = torch.zeros((cond.shape[0], 10))\n",
        "    OH[torch.arange(cond.shape[0]), cond] = 1\n",
        "    return OH\n",
        "    \n",
        "for epoch in range(1, N_EPOCH + 1):\n",
        "    cvae.train()\n",
        "    train_loss = 0\n",
        "    for (data, cond) in train_loader:\n",
        "        data = data.to(device)\n",
        "        \n",
        "        cond = one_hott(cond) # create one-hot condition\n",
        "        cond = cond.to(device)\n",
        "        \n",
        "        optimizer.zero_grad()\n",
        "        \n",
        "        recon_batch, mu, log_var = cvae(data, cond)\n",
        "        loss = loss_function(recon_batch, data, mu, log_var)\n",
        "        \n",
        "        loss.backward()\n",
        "        train_loss += loss.item()\n",
        "        optimizer.step()\n",
        "    print('Epoch: {}/{}\\t Average loss: {:.4f}'.format(epoch, N_EPOCH, train_loss / len(train_loader.dataset)))"
      ],
      "execution_count": 0,
      "outputs": [
        {
          "output_type": "stream",
          "text": [
            "/usr/local/lib/python3.6/dist-packages/torch/nn/functional.py:1351: UserWarning: nn.functional.sigmoid is deprecated. Use torch.sigmoid instead.\n",
            "  warnings.warn(\"nn.functional.sigmoid is deprecated. Use torch.sigmoid instead.\")\n"
          ],
          "name": "stderr"
        },
        {
          "output_type": "stream",
          "text": [
            "Epoch: 1/50\t Average loss: 9.3158\n",
            "Epoch: 2/50\t Average loss: 8.6708\n",
            "Epoch: 3/50\t Average loss: 8.5730\n",
            "Epoch: 4/50\t Average loss: 8.5031\n",
            "Epoch: 5/50\t Average loss: 8.4700\n",
            "Epoch: 6/50\t Average loss: 8.4509\n",
            "Epoch: 7/50\t Average loss: 8.4404\n",
            "Epoch: 8/50\t Average loss: 8.4359\n",
            "Epoch: 9/50\t Average loss: 8.4276\n",
            "Epoch: 10/50\t Average loss: 8.4269\n",
            "Epoch: 11/50\t Average loss: 8.4266\n",
            "Epoch: 12/50\t Average loss: 8.4199\n",
            "Epoch: 13/50\t Average loss: 8.4247\n",
            "Epoch: 14/50\t Average loss: 8.4162\n",
            "Epoch: 15/50\t Average loss: 8.4174\n",
            "Epoch: 16/50\t Average loss: 8.4135\n",
            "Epoch: 17/50\t Average loss: 8.4164\n",
            "Epoch: 18/50\t Average loss: 8.4139\n",
            "Epoch: 19/50\t Average loss: 8.4041\n",
            "Epoch: 20/50\t Average loss: 8.4109\n",
            "Epoch: 21/50\t Average loss: 8.4102\n",
            "Epoch: 22/50\t Average loss: 8.4076\n",
            "Epoch: 23/50\t Average loss: 8.4085\n",
            "Epoch: 24/50\t Average loss: 8.4070\n",
            "Epoch: 25/50\t Average loss: 8.4097\n",
            "Epoch: 26/50\t Average loss: 8.4055\n",
            "Epoch: 27/50\t Average loss: 8.4001\n",
            "Epoch: 28/50\t Average loss: 8.4051\n",
            "Epoch: 29/50\t Average loss: 8.4052\n",
            "Epoch: 30/50\t Average loss: 8.4022\n",
            "Epoch: 31/50\t Average loss: 8.3993\n",
            "Epoch: 32/50\t Average loss: 8.4014\n",
            "Epoch: 33/50\t Average loss: 8.3970\n",
            "Epoch: 34/50\t Average loss: 8.3980\n",
            "Epoch: 35/50\t Average loss: 8.3982\n",
            "Epoch: 36/50\t Average loss: 8.3962\n",
            "Epoch: 37/50\t Average loss: 8.3968\n",
            "Epoch: 38/50\t Average loss: 8.3964\n",
            "Epoch: 39/50\t Average loss: 8.3993\n",
            "Epoch: 40/50\t Average loss: 8.3957\n",
            "Epoch: 41/50\t Average loss: 8.3931\n",
            "Epoch: 42/50\t Average loss: 8.3999\n",
            "Epoch: 43/50\t Average loss: 8.3987\n",
            "Epoch: 44/50\t Average loss: 8.3909\n",
            "Epoch: 45/50\t Average loss: 8.3962\n",
            "Epoch: 46/50\t Average loss: 8.3897\n",
            "Epoch: 47/50\t Average loss: 8.3900\n",
            "Epoch: 48/50\t Average loss: 8.3967\n",
            "Epoch: 49/50\t Average loss: 8.3963\n",
            "Epoch: 50/50\t Average loss: 8.3957\n"
          ],
          "name": "stdout"
        }
      ]
    },
    {
      "cell_type": "code",
      "metadata": {
        "id": "7N_g54FUJSAV",
        "colab_type": "code",
        "outputId": "d00887cd-8cbd-4c9b-a62b-cfea65668409",
        "colab": {
          "base_uri": "https://localhost:8080/",
          "height": 119
        }
      },
      "source": [
        "# Visualization\n",
        "import matplotlib.pyplot as plt\n",
        "\n",
        "digit_size = 28\n",
        "z_sample = torch.randn(1, 2) # random \n",
        "plt.figure(figsize=(20, 1))\n",
        "\n",
        "for i in range(10):\n",
        "    c = torch.zeros((1, 10))\n",
        "    c[0][i] = 1\n",
        "    \n",
        "    cvae.eval()\n",
        "    with torch.no_grad():\n",
        "        z_sample = z_sample.to(device)\n",
        "        c = c.to(device)\n",
        "        img = cvae.decoder(z_sample, c)\n",
        "        # reshape (if needed)\n",
        "        img = img.detach().cpu().view(28, 28).numpy()\n",
        "\n",
        "    plt.subplot(1, 10, i+1)\n",
        "    plt.axis('off')\n",
        "    plt.imshow(img, cmap='Greys_r',)\n",
        "plt.show()\n"
      ],
      "execution_count": 0,
      "outputs": [
        {
          "output_type": "stream",
          "text": [
            "/usr/local/lib/python3.6/dist-packages/torch/nn/functional.py:1351: UserWarning: nn.functional.sigmoid is deprecated. Use torch.sigmoid instead.\n",
            "  warnings.warn(\"nn.functional.sigmoid is deprecated. Use torch.sigmoid instead.\")\n"
          ],
          "name": "stderr"
        },
        {
          "output_type": "display_data",
          "data": {
            "image/png": "[encoded data removed]",
            "text/plain": [
              "<Figure size 1440x72 with 10 Axes>"
            ]
          },
          "metadata": {
            "tags": []
          }
        }
      ]
    },
    {
      "cell_type": "markdown",
      "metadata": {
        "id": "TumnnA2iJSAX",
        "colab_type": "text"
      },
      "source": [
        "# UMAP\n",
        "These links help you to understand how UMAP works.\n",
        "\n",
        "[Scanpy anndata](https://anndata.readthedocs.io/en/stable/)\n",
        "\n",
        "[Scanpy umap](https://icb-scanpy.readthedocs-hosted.com/en/stable/api/scanpy.pl.umap.html)\n",
        "\n",
        "[Example](https://icb-scanpy-tutorials.readthedocs-hosted.com/en/latest/visualizing-marker-genes.html)"
      ]
    },
    {
      "cell_type": "code",
      "metadata": {
        "id": "fUh9l9yeJSAY",
        "colab_type": "code",
        "colab": {}
      },
      "source": [
        "# Create latent space and labels for UMAP\n",
        "cvae.eval()\n",
        "latent = None\n",
        "labels = None\n",
        "with torch.no_grad():\n",
        "    for data, cond in test_loader:\n",
        "      if data.size() == torch.Size([128, 1, 28, 28]):\n",
        "        data = data.view(128, 28*28)\n",
        "        data = data.to(device)\n",
        "        \n",
        "        if labels is None:\n",
        "            labels = cond\n",
        "        else:\n",
        "            labels = torch.cat((labels, cond), 0)\n",
        "            \n",
        "        cond = one_hott(cond) # create one-hot condition\n",
        "        cond = cond.to(device)\n",
        "\n",
        "        # recon_batch, mu, log_var = cvae(data, cond)\n",
        "        # batch_latent = cvae.sampling(mu, log_var)\n",
        "      \n",
        "        batch_latent = cvae.encoder(data,cond)\n",
        "\n",
        "        if latent is None:\n",
        "            latent = batch_latent[0]\n",
        "        else:\n",
        "            latent = torch.cat((latent, batch_latent[0]), 0)\n",
        "labels = labels.detach().numpy()\n",
        "latent = latent.cpu().detach().numpy()\n"
      ],
      "execution_count": 0,
      "outputs": []
    },
    {
      "cell_type": "code",
      "metadata": {
        "id": "Z75FPnUAEcJf",
        "colab_type": "code",
        "outputId": "79896123-5e52-4a4e-f689-67e1107f2b5d",
        "colab": {
          "base_uri": "https://localhost:8080/",
          "height": 1000
        }
      },
      "source": [
        "!pip install scanpy"
      ],
      "execution_count": 0,
      "outputs": [
        {
          "output_type": "stream",
          "text": [
            "Collecting scanpy\n",
            "\u001b[?25l  Downloading https://files.pythonhosted.org/packages/14/73/569503d8c99ae28b94325363e3f60a15105785802c918d44a2e69a9bcffa/scanpy-1.4.5.tar.gz (6.5MB)\n",
            "\u001b[K     |████████████████████████████████| 6.5MB 4.4MB/s \n",
            "\u001b[?25h  Installing build dependencies ... \u001b[?25l\u001b[?25hdone\n",
            "  Getting requirements to build wheel ... \u001b[?25l\u001b[?25hdone\n",
            "    Preparing wheel metadata ... \u001b[?25l\u001b[?25hdone\n",
            "Requirement already satisfied: h5py!=2.10.0 in /usr/local/lib/python3.6/dist-packages (from scanpy) (2.8.0)\n",
            "Collecting legacy-api-wrap\n",
            "  Downloading https://files.pythonhosted.org/packages/a4/68/da997bc56bb69dcdcee4054f0bc42266909307b905389fbc54c9158f42da/legacy_api_wrap-1.2-py3-none-any.whl\n",
            "Collecting anndata>=0.7rc1\n",
            "\u001b[?25l  Downloading https://files.pythonhosted.org/packages/5e/aa/5391f687bda6fbfc0fbdc24863b836954cb2ab73657cb324f10e319be06f/anndata-0.7rc1-py3-none-any.whl (88kB)\n",
            "\u001b[K     |████████████████████████████████| 92kB 13.1MB/s \n",
            "\u001b[?25hRequirement already satisfied: statsmodels>=0.10.0rc2 in /usr/local/lib/python3.6/dist-packages (from scanpy) (0.10.2)\n",
            "Requirement already satisfied: tqdm in /usr/local/lib/python3.6/dist-packages (from scanpy) (4.28.1)\n",
            "Requirement already satisfied: tables in /usr/local/lib/python3.6/dist-packages (from scanpy) (3.4.4)\n",
            "Collecting numba>=0.41.0\n",
            "\u001b[?25l  Downloading https://files.pythonhosted.org/packages/f8/7d/f2b5ea8d5952115351e303d1aadbdd1c5b08f479d76456d43a5d7a3a8c88/numba-0.47.0-cp36-cp36m-manylinux1_x86_64.whl (3.7MB)\n",
            "\u001b[K     |████████████████████████████████| 3.7MB 70.7MB/s \n",
            "\u001b[?25hRequirement already satisfied: patsy in /usr/local/lib/python3.6/dist-packages (from scanpy) (0.5.1)\n",
            "Requirement already satisfied: scikit-learn>=0.21.2 in /usr/local/lib/python3.6/dist-packages (from scanpy) (0.21.3)\n",
            "Requirement already satisfied: umap-learn>=0.3.0 in /usr/local/lib/python3.6/dist-packages (from scanpy) (0.3.10)\n",
            "Collecting matplotlib==3.0.*\n",
            "\u001b[?25l  Downloading https://files.pythonhosted.org/packages/e9/69/f5e05f578585ed9935247be3788b374f90701296a70c8871bcd6d21edb00/matplotlib-3.0.3-cp36-cp36m-manylinux1_x86_64.whl (13.0MB)\n",
            "\u001b[K     |████████████████████████████████| 13.0MB 18.3MB/s \n",
            "\u001b[?25hRequirement already satisfied: networkx in /usr/local/lib/python3.6/dist-packages (from scanpy) (2.4)\n",
            "Requirement already satisfied: natsort in /usr/local/lib/python3.6/dist-packages (from scanpy) (5.5.0)\n",
            "Requirement already satisfied: joblib in /usr/local/lib/python3.6/dist-packages (from scanpy) (0.14.1)\n",
            "Collecting setuptools-scm\n",
            "  Using cached https://files.pythonhosted.org/packages/1d/70/97966deebaeeda0b81d3cd63ba9f8ec929b838871ed17476de9d8159db3e/setuptools_scm-3.3.3-py2.py3-none-any.whl\n",
            "Requirement already satisfied: importlib-metadata>=0.7; python_version < \"3.8\" in /usr/local/lib/python3.6/dist-packages (from scanpy) (1.3.0)\n",
            "Requirement already satisfied: seaborn in /usr/local/lib/python3.6/dist-packages (from scanpy) (0.9.0)\n",
            "Requirement already satisfied: pandas>=0.21 in /usr/local/lib/python3.6/dist-packages (from scanpy) (0.25.3)\n",
            "Requirement already satisfied: scipy>=1.3 in /usr/local/lib/python3.6/dist-packages (from scanpy) (1.3.3)\n",
            "Requirement already satisfied: six in /usr/local/lib/python3.6/dist-packages (from h5py!=2.10.0->scanpy) (1.12.0)\n",
            "Requirement already satisfied: numpy>=1.7 in /usr/local/lib/python3.6/dist-packages (from h5py!=2.10.0->scanpy) (1.17.4)\n",
            "Collecting get-version>=2.0.4\n",
            "\u001b[?25l  Downloading https://files.pythonhosted.org/packages/23/48/7610e884e62fff2183e7bc8592397c39a020267fb5147905fcd3f9cc820c/get_version-2.1-py3-none-any.whl (43kB)\n",
            "\u001b[K     |████████████████████████████████| 51kB 8.2MB/s \n",
            "\u001b[?25hRequirement already satisfied: setuptools in /usr/local/lib/python3.6/dist-packages (from legacy-api-wrap->scanpy) (42.0.2)\n",
            "Requirement already satisfied: numexpr>=2.5.2 in /usr/local/lib/python3.6/dist-packages (from tables->scanpy) (2.7.0)\n",
            "Collecting llvmlite>=0.31.0dev0\n",
            "\u001b[?25l  Downloading https://files.pythonhosted.org/packages/ad/bb/60d4033d56c9da36490af19caa6c794b72b8aef6f792fdfa8cb95d11e419/llvmlite-0.31.0-cp36-cp36m-manylinux1_x86_64.whl (20.2MB)\n",
            "\u001b[K     |████████████████████████████████| 20.2MB 109kB/s \n",
            "\u001b[?25hRequirement already satisfied: kiwisolver>=1.0.1 in /usr/local/lib/python3.6/dist-packages (from matplotlib==3.0.*->scanpy) (1.1.0)\n",
            "Requirement already satisfied: pyparsing!=2.0.4,!=2.1.2,!=2.1.6,>=2.0.1 in /usr/local/lib/python3.6/dist-packages (from matplotlib==3.0.*->scanpy) (2.4.5)\n",
            "Requirement already satisfied: python-dateutil>=2.1 in /usr/local/lib/python3.6/dist-packages (from matplotlib==3.0.*->scanpy) (2.6.1)\n",
            "Requirement already satisfied: cycler>=0.10 in /usr/local/lib/python3.6/dist-packages (from matplotlib==3.0.*->scanpy) (0.10.0)\n",
            "Requirement already satisfied: decorator>=4.3.0 in /usr/local/lib/python3.6/dist-packages (from networkx->scanpy) (4.4.1)\n",
            "Requirement already satisfied: zipp>=0.5 in /usr/local/lib/python3.6/dist-packages (from importlib-metadata>=0.7; python_version < \"3.8\"->scanpy) (0.6.0)\n",
            "Requirement already satisfied: pytz>=2017.2 in /usr/local/lib/python3.6/dist-packages (from pandas>=0.21->scanpy) (2018.9)\n",
            "Requirement already satisfied: more-itertools in /usr/local/lib/python3.6/dist-packages (from zipp>=0.5->importlib-metadata>=0.7; python_version < \"3.8\"->scanpy) (8.0.2)\n",
            "Building wheels for collected packages: scanpy\n",
            "  Building wheel for scanpy (PEP 517) ... \u001b[?25l\u001b[?25hdone\n",
            "  Created wheel for scanpy: filename=scanpy-1.4.5-cp36-none-any.whl size=264431 sha256=d79f9b5a5bd37c222ed3a4d702bc555b38651abba84b9ae9f767af6d9f1c3d2b\n",
            "  Stored in directory: /root/.cache/pip/wheels/30/4e/27/5681d399489fed5e4d777bb8027afea4c0a4aeb7e89e789150\n",
            "Successfully built scanpy\n",
            "\u001b[31mERROR: albumentations 0.1.12 has requirement imgaug<0.2.7,>=0.2.5, but you'll have imgaug 0.2.9 which is incompatible.\u001b[0m\n",
            "Installing collected packages: get-version, legacy-api-wrap, anndata, llvmlite, numba, matplotlib, setuptools-scm, scanpy\n",
            "  Found existing installation: llvmlite 0.30.0\n",
            "    Uninstalling llvmlite-0.30.0:\n",
            "      Successfully uninstalled llvmlite-0.30.0\n",
            "  Found existing installation: numba 0.40.1\n",
            "    Uninstalling numba-0.40.1:\n",
            "      Successfully uninstalled numba-0.40.1\n",
            "  Found existing installation: matplotlib 3.1.2\n",
            "    Uninstalling matplotlib-3.1.2:\n",
            "      Successfully uninstalled matplotlib-3.1.2\n",
            "Successfully installed anndata-0.7rc1 get-version-2.1 legacy-api-wrap-1.2 llvmlite-0.31.0 matplotlib-3.0.3 numba-0.47.0 scanpy-1.4.5 setuptools-scm-3.3.3\n"
          ],
          "name": "stdout"
        },
        {
          "output_type": "display_data",
          "data": {
            "application/vnd.colab-display-data+json": {
              "pip_warning": {
                "packages": [
                  "matplotlib",
                  "mpl_toolkits"
                ]
              }
            }
          },
          "metadata": {
            "tags": []
          }
        }
      ]
    },
    {
      "cell_type": "code",
      "metadata": {
        "id": "ZZpEOTC-JSAb",
        "colab_type": "code",
        "colab": {}
      },
      "source": [
        "# UMAP\n",
        "import scanpy as sc\n",
        "\n",
        "labels = labels.astype(str)\n",
        "latent_anndata = sc.AnnData(X=latent, obs={\"Numbers\": labels})\n",
        "sc.pp.neighbors(latent_anndata)\n",
        "sc.tl.umap(latent_anndata)\n",
        "\n",
        "# Visualization\n",
        "sc.pl.umap(latent_anndata, color=[\"Numbers\"],\n",
        "           frameon=False,\n",
        "           legend_loc=False,\n",
        "           show=True)\n",
        "print('KL Coefficient:1, Reconstruction Coefficient:1')"
      ],
      "execution_count": 0,
      "outputs": []
    },
    {
      "cell_type": "code",
      "metadata": {
        "id": "C48F2_R7fR7Q",
        "colab_type": "code",
        "colab": {}
      },
      "source": [
        "# UMAP\n",
        "import scanpy as sc\n",
        "\n",
        "labels = labels.astype(str)\n",
        "latent_anndata = sc.AnnData(X=latent, obs={\"Numbers\": labels})\n",
        "sc.pp.neighbors(latent_anndata)\n",
        "sc.tl.umap(latent_anndata)\n",
        "\n",
        "# Visualization\n",
        "sc.pl.umap(latent_anndata, color=[\"Numbers\"],\n",
        "           frameon=False,\n",
        "           legend_loc=False,\n",
        "           show=True)\n",
        "print('KL Coefficient:0.07, Reconstruction Coefficient:1')"
      ],
      "execution_count": 0,
      "outputs": []
    },
    {
      "cell_type": "code",
      "metadata": {
        "id": "HggpPNh_hiwt",
        "colab_type": "code",
        "colab": {}
      },
      "source": [
        "# UMAP\n",
        "import scanpy as sc\n",
        "\n",
        "labels = labels.astype(str)\n",
        "latent_anndata = sc.AnnData(X=latent, obs={\"Numbers\": labels})\n",
        "sc.pp.neighbors(latent_anndata)\n",
        "sc.tl.umap(latent_anndata)\n",
        "\n",
        "# Visualization\n",
        "sc.pl.umap(latent_anndata, color=[\"Numbers\"],\n",
        "           frameon=False,\n",
        "           legend_loc=False,\n",
        "           show=True)\n",
        "print('KL Coefficient:1, Reconstruction Coefficient:0.07')"
      ],
      "execution_count": 0,
      "outputs": []
    }
  ]
}